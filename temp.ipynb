{
 "cells": [
  {
   "cell_type": "code",
   "execution_count": 1,
   "metadata": {},
   "outputs": [],
   "source": [
    "import random\n",
    "import sys\n",
    "import math\n",
    "import numpy as np\n",
    "import pandas as pd\n",
    "import matplotlib.pyplot as plt\n",
    "import sklearn\n",
    "\n",
    "from scipy.sparse import coo_matrix\n",
    "from scipy.sparse import csr_matrix\n",
    "from scipy.spatial.distance import jaccard\n",
    "from sklearn.metrics import jaccard_score"
   ]
  },
  {
   "cell_type": "code",
   "execution_count": 2,
   "metadata": {},
   "outputs": [
    {
     "name": "stdout",
     "output_type": "stream",
     "text": [
      "row example: [ 1 30  3]\n",
      "shape: (65225506, 3)\n",
      "number of unique movies: 17770\n",
      "number of unique users: 103703\n"
     ]
    }
   ],
   "source": [
    "data = np.load('user_movie_rating.npy')\n",
    "\n",
    "print(\"row example:\",data[0])\n",
    "print(\"shape:\",data.shape)\n",
    "print(\"number of unique movies:\", len(np.unique(data[:,1])))\n",
    "print(\"number of unique users:\", len(np.unique(data[:,0])))"
   ]
  },
  {
   "cell_type": "code",
   "execution_count": 3,
   "metadata": {},
   "outputs": [],
   "source": [
    "np.random.seed(0)"
   ]
  },
  {
   "cell_type": "markdown",
   "metadata": {},
   "source": [
    "<br/><br/>\n",
    "<font size=\"5\">\n",
    "Creating our sparse matrixes\n",
    "</font>"
   ]
  },
  {
   "cell_type": "code",
   "execution_count": 4,
   "metadata": {},
   "outputs": [
    {
     "name": "stdout",
     "output_type": "stream",
     "text": [
      "csr matrix shape: (17771, 103704)\n",
      "csr matrix non zero elements: 65225506\n",
      "non zero elements in row 1: 0\n",
      "non zero elements in col 1: 0\n"
     ]
    }
   ],
   "source": [
    "rows = data[:,1] # movie ids\n",
    "cols = data[:,0] # user ids\n",
    "# we don't care about the actual rating, \n",
    "# we want to know if the movie was rated by the user or not\n",
    "data_vals = np.full(data.shape[0],1)\n",
    "\n",
    "# csr matrix with movies in rows and users in cols\n",
    "# this is the main matrix representation we will use\n",
    "csr_sparse = csr_matrix((data_vals, (rows,cols)))\n",
    "csr_shape = csr_sparse.get_shape()\n",
    "\n",
    "# we have one extra row and one extra col because our user and movie \n",
    "# indexing starts from 0, while our data starts from ID;s of 1.\n",
    "# The first row and the first col can therefore be ignored\n",
    "print(\"csr matrix shape:\", csr_shape)\n",
    "print(\"csr matrix non zero elements:\", csr_sparse.count_nonzero())\n",
    "print(\"non zero elements in row 1:\", csr_sparse[0].count_nonzero())\n",
    "print(\"non zero elements in col 1:\", csr_sparse[:,0].count_nonzero())"
   ]
  },
  {
   "cell_type": "markdown",
   "metadata": {},
   "source": [
    "<br/><br/>\n",
    "<font size=\"5\">\n",
    "Permutation matrix creation\n",
    "</font>"
   ]
  },
  {
   "cell_type": "code",
   "execution_count": 43,
   "metadata": {},
   "outputs": [
    {
     "name": "stdout",
     "output_type": "stream",
     "text": [
      "permutations table shape: (17771, 100)\n"
     ]
    }
   ],
   "source": [
    "# since we are allowed, instead of creating hash functions\n",
    "# we will use permutations of our rows which are faster to calculate\n",
    "n_permutations = 100\n",
    "\n",
    "rows_unpermuted = range(csr_shape[0])\n",
    "row_permutations = np.array([ np.random.permutation(rows_unpermuted)\n",
    "                                    for i in range(n_permutations)]).T\n",
    "print(\"permutations table shape:\", row_permutations.shape)"
   ]
  },
  {
   "cell_type": "code",
   "execution_count": 44,
   "metadata": {},
   "outputs": [
    {
     "data": {
      "text/plain": [
       "17771"
      ]
     },
     "execution_count": 44,
     "metadata": {},
     "output_type": "execute_result"
    }
   ],
   "source": [
    "len(np.unique(row_permutations[:,0]))"
   ]
  },
  {
   "cell_type": "markdown",
   "metadata": {},
   "source": [
    "<br/><br/>\n",
    "<font size=\"5\">\n",
    "Signature matrix creation\n",
    "</font>\n",
    "<br/>\n",
    "<font size=\"2\">\n",
    "We will use a numpy array for this because we will fill all the values anyway\n",
    "</font>"
   ]
  },
  {
   "cell_type": "code",
   "execution_count": 45,
   "metadata": {},
   "outputs": [
    {
     "name": "stdout",
     "output_type": "stream",
     "text": [
      "signature matrix shape: (103704, 100)\n"
     ]
    }
   ],
   "source": [
    "signature_matrix = np.full((csr_shape[1], n_permutations), np.inf)\n",
    "print(\"signature matrix shape:\",signature_matrix.shape)\n",
    "\n",
    "csr_range_rows = range(csr_shape[0])\n",
    "sign_matr_rows = range(signature_matrix.shape[0])\n",
    "\n",
    "#indexing sparse matrix rows\n",
    "for curr_csr_row in csr_range_rows:\n",
    "    non_zero_col_indexes = csr_sparse[curr_csr_row].nonzero()[1]\n",
    "    curr_permut_vals = row_permutations[curr_csr_row]\n",
    "\n",
    "    #indexing signature matrix updatable params\n",
    "    for curr_col in non_zero_col_indexes:\n",
    "        signature_matrix[curr_col] = np.minimum(signature_matrix[curr_col],\n",
    "                                                curr_permut_vals)"
   ]
  },
  {
   "cell_type": "markdown",
   "metadata": {},
   "source": [
    "<br/><br/>\n",
    "<font size=\"5\">\n",
    "Jaccard Similarity\n",
    "</font>"
   ]
  },
  {
   "cell_type": "code",
   "execution_count": 46,
   "metadata": {},
   "outputs": [
    {
     "name": "stdout",
     "output_type": "stream",
     "text": [
      "[0, 6, 12, 18, 24, 30, 36, 42, 48, 54, 60, 66, 72, 78, 84, 90, 96]\n"
     ]
    }
   ],
   "source": [
    "n_bands = 16\n",
    "sig_bands = [ math.floor(n_permutations/n_bands)*i for i in range(n_bands+1) ]\n",
    "range_sig_bands = range(len(sig_bands)-1)\n",
    "print(sig_bands)"
   ]
  },
  {
   "cell_type": "code",
   "execution_count": 56,
   "metadata": {},
   "outputs": [],
   "source": [
    "pairs = []\n",
    "range_curr_band = range(csr_shape[1])\n",
    "for curr_band_idx in range_sig_bands:\n",
    "    \n",
    "    curr_band = signature_matrix[:,sig_bands[curr_band_idx]:sig_bands[curr_band_idx+1]]\n",
    "    \n",
    "\n",
    "    curr_user_index = 0 #needs to reset for each band\n",
    "    dict_of_hashes = {}\n",
    "    for curr_usr_idx in range_curr_band:\n",
    "        curr_hash = hash(tuple(curr_band[curr_usr_idx]))\n",
    "        dict_of_hashes.setdefault(curr_hash, []).append(curr_user_index)\n",
    "        curr_user_index += 1\n",
    "\n",
    "\n",
    "    # add pairs to array from dict \n",
    "    for curr_key in dict_of_hashes:\n",
    "        if len(dict_of_hashes[curr_key]) > 1:\n",
    "            curr_list = dict_of_hashes[curr_key]\n",
    "            range_curr_list = range(len(curr_list)-1)\n",
    "            for i in range_curr_list:\n",
    "                second_rng = range(i+1,len(curr_list))\n",
    "                for j in second_rng:\n",
    "                    new_pair = [curr_list[i], curr_list[j]]\n",
    "                    pairs.append(new_pair)"
   ]
  },
  {
   "cell_type": "code",
   "execution_count": 57,
   "metadata": {},
   "outputs": [
    {
     "name": "stdout",
     "output_type": "stream",
     "text": [
      "total pairs:5507101, unique pairs:5486718\n",
      "repeated pairs: 20219\n",
      "[[     5  14459]\n",
      " [     5  39842]\n",
      " [     5  54265]\n",
      " ...\n",
      " [102809 103401]\n",
      " [103046 103483]\n",
      " [103320 103519]]\n"
     ]
    }
   ],
   "source": [
    "unique_pairs, counts = np.unique(pairs, axis=0, return_counts=True)\n",
    "unique_repeated = unique_pairs[counts > 1]\n",
    "print(f\"total pairs:{len(pairs)}, unique pairs:{len(unique_pairs)}\")\n",
    "print(f\"repeated pairs: {len(unique_repeated)}\")\n",
    "print(f\"{unique_repeated}\")"
   ]
  },
  {
   "cell_type": "code",
   "execution_count": 49,
   "metadata": {},
   "outputs": [],
   "source": [
    "#unique_repeated = sorted(pairs, key=lambda x: x[0])"
   ]
  },
  {
   "cell_type": "code",
   "execution_count": 50,
   "metadata": {},
   "outputs": [],
   "source": [
    "csr_sparse_t = csr_sparse.tocsc()"
   ]
  },
  {
   "cell_type": "code",
   "execution_count": 51,
   "metadata": {},
   "outputs": [
    {
     "name": "stdout",
     "output_type": "stream",
     "text": [
      "35\n"
     ]
    }
   ],
   "source": [
    "file_out = open(\"results.txt\", \"w\")\n",
    "file_out.close()\n",
    "counter = 0\n",
    "for i in unique_repeated:\n",
    "     curr_score = 1 - jaccard(csr_sparse_t[:,i[0]].toarray(),csr_sparse_t[:,i[1]].toarray())\n",
    "     if curr_score >= 0.5:\n",
    "          counter += 1\n",
    "          file_out = open(\"results.txt\", \"a\")\n",
    "          file_out.write(str(i[0])+\",\"+\" \"+str(i[1])+\"\\n\")\n",
    "          file_out.close()\n",
    "print(counter)"
   ]
  },
  {
   "cell_type": "code",
   "execution_count": null,
   "metadata": {},
   "outputs": [],
   "source": []
  }
 ],
 "metadata": {
  "interpreter": {
   "hash": "63a00b1af9114ee86ee68ac63ddc18c623a186204bdc2fa9ce37ad25ea9dbf90"
  },
  "kernelspec": {
   "display_name": "Python 3.8.8 64-bit ('tfenv': conda)",
   "language": "python",
   "name": "python3"
  },
  "language_info": {
   "codemirror_mode": {
    "name": "ipython",
    "version": 3
   },
   "file_extension": ".py",
   "mimetype": "text/x-python",
   "name": "python",
   "nbconvert_exporter": "python",
   "pygments_lexer": "ipython3",
   "version": "3.8.8"
  },
  "orig_nbformat": 4
 },
 "nbformat": 4,
 "nbformat_minor": 2
}
